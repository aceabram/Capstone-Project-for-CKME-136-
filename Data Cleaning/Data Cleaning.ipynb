{
 "cells": [
  {
   "cell_type": "code",
   "execution_count": 1,
   "metadata": {},
   "outputs": [],
   "source": [
    "#Import packages\n",
    "import pandas as pd\n",
    "from pandas import DataFrame\n",
    "import numpy as np\n"
   ]
  },
  {
   "cell_type": "code",
   "execution_count": 2,
   "metadata": {},
   "outputs": [],
   "source": [
    "#Defining dataset\n",
    "salary_file=(r'C:\\Users\\abrah\\Documents\\Capstone project\\nbaplayers1718.csv')\n",
    "pd.read_csv(salary_file)\n",
    "salary1=pd.read_csv(salary_file)\n",
    "salary2_file=(r'C:\\Users\\abrah\\Documents\\Capstone project\\NBA_season1718_salary.csv')\n",
    "pd.read_csv(salary2_file)\n",
    "salary2=pd.read_csv(salary2_file)"
   ]
  },
  {
   "cell_type": "code",
   "execution_count": 3,
   "metadata": {},
   "outputs": [],
   "source": [
    "#Data Cleaning\n",
    "#Join Columns\n",
    "#Join the season stats dataset with the salary dataset\n",
    "columns2= ['Unnamed: 0', 'Tm']\n",
    "salary2.drop(columns2, axis=1, inplace=True)\n",
    "columns1= ['#', 'Season Start']\n",
    "salary1.drop(columns1, axis=1, inplace=True)\n",
    "salary= pd.merge(salary1, salary2, how='left', left_on='Player Name', right_on='Player')"
   ]
  },
  {
   "cell_type": "code",
   "execution_count": 4,
   "metadata": {},
   "outputs": [],
   "source": [
    "#Adding columns\n",
    "#Adding columns as traditional statistical attributes are measured in total numbers in the dataset, I am adding columns to divide those attributes by games played.\n",
    "salary['ORB/G'] = np.where(salary['G'] < 1, salary['G'], salary['ORB']/salary['G'])\n",
    "salary['DRB/G'] = np.where(salary['G'] < 1, salary['G'], salary['DRB']/salary['G'])\n",
    "salary['TRB/G'] = np.where(salary['G'] < 1, salary['G'], salary['TRB']/salary['G'])\n",
    "salary['AST/G'] = np.where(salary['G'] < 1, salary['G'], salary['AST']/salary['G'])\n",
    "salary['STL/G'] = np.where(salary['G'] < 1, salary['G'], salary['STL']/salary['G'])\n",
    "salary['BLK/G'] = np.where(salary['G'] < 1, salary['G'], salary['BLK']/salary['G'])\n",
    "salary['TOV/G'] = np.where(salary['G'] < 1, salary['G'], salary['TOV']/salary['G'])\n",
    "salary['PF/G'] = np.where(salary['G'] < 1, salary['G'], salary['PF']/salary['G'])\n",
    "salary['PTS/G'] = np.where(salary['G'] < 1, salary['G'], salary['PTS']/salary['G'])\n",
    "#Drop attributes that are not related to the performance of a player\n",
    "columns= ['Tm', ' Player Salary in $ ', 'blank2', 'blanl', 'ORB','DRB', 'TRB', 'AST', 'STL', 'BLK', 'TOV', 'PF', 'PTS', 'Pos', 'Age', 'GS', 'MP', 'Player']\n",
    "salary.drop(columns, axis=1, inplace=True)"
   ]
  },
  {
   "cell_type": "code",
   "execution_count": 5,
   "metadata": {},
   "outputs": [
    {
     "data": {
      "text/html": [
       "<div>\n",
       "<style scoped>\n",
       "    .dataframe tbody tr th:only-of-type {\n",
       "        vertical-align: middle;\n",
       "    }\n",
       "\n",
       "    .dataframe tbody tr th {\n",
       "        vertical-align: top;\n",
       "    }\n",
       "\n",
       "    .dataframe thead th {\n",
       "        text-align: right;\n",
       "    }\n",
       "</style>\n",
       "<table border=\"1\" class=\"dataframe\">\n",
       "  <thead>\n",
       "    <tr style=\"text-align: right;\">\n",
       "      <th></th>\n",
       "      <th>variable</th>\n",
       "      <th>number of missing</th>\n",
       "    </tr>\n",
       "  </thead>\n",
       "  <tbody>\n",
       "    <tr>\n",
       "      <th>0</th>\n",
       "      <td>season17_18</td>\n",
       "      <td>75</td>\n",
       "    </tr>\n",
       "    <tr>\n",
       "      <th>1</th>\n",
       "      <td>3P%</td>\n",
       "      <td>37</td>\n",
       "    </tr>\n",
       "    <tr>\n",
       "      <th>2</th>\n",
       "      <td>FT%</td>\n",
       "      <td>15</td>\n",
       "    </tr>\n",
       "    <tr>\n",
       "      <th>3</th>\n",
       "      <td>2P%</td>\n",
       "      <td>2</td>\n",
       "    </tr>\n",
       "    <tr>\n",
       "      <th>4</th>\n",
       "      <td>eFG%</td>\n",
       "      <td>1</td>\n",
       "    </tr>\n",
       "  </tbody>\n",
       "</table>\n",
       "</div>"
      ],
      "text/plain": [
       "      variable  number of missing\n",
       "0  season17_18                 75\n",
       "1          3P%                 37\n",
       "2          FT%                 15\n",
       "3          2P%                  2\n",
       "4         eFG%                  1"
      ]
     },
     "execution_count": 5,
     "metadata": {},
     "output_type": "execute_result"
    }
   ],
   "source": [
    "#Check for null values\n",
    "copysalary=salary.copy()\n",
    "null_values_col = copysalary.isnull().sum()\n",
    "null_values_col = null_values_col[null_values_col != 0].sort_values(ascending = False).reset_index()\n",
    "null_values_col.columns = [\"variable\", \"number of missing\"]\n",
    "null_values_col.head()"
   ]
  },
  {
   "cell_type": "code",
   "execution_count": 6,
   "metadata": {},
   "outputs": [],
   "source": [
    "#Remove any players that have no salary for the 17/18 season\n",
    "salary.dropna(subset=['season17_18'] , inplace=True)\n",
    "#All the other null values will be replaced with 0\n",
    "salary.fillna(0, inplace=True)"
   ]
  },
  {
   "cell_type": "code",
   "execution_count": 7,
   "metadata": {},
   "outputs": [],
   "source": [
    "#Rename the column name showing the salaries of the players to ‘Salary’\n",
    "salary.rename(columns={'season17_18': 'Salary'}, inplace=True)\n"
   ]
  },
  {
   "cell_type": "code",
   "execution_count": 8,
   "metadata": {},
   "outputs": [],
   "source": [
    "#Remove any possible duplicates in the column with players names\n",
    "salary.drop_duplicates(subset='Player Name', keep= \"first\", inplace=True)"
   ]
  },
  {
   "cell_type": "code",
   "execution_count": 10,
   "metadata": {},
   "outputs": [
    {
     "data": {
      "text/plain": [
       "Player Name    False\n",
       "G              False\n",
       "PER            False\n",
       "TS%            False\n",
       "3PAr           False\n",
       "FTr            False\n",
       "ORB%           False\n",
       "DRB%           False\n",
       "TRB%           False\n",
       "AST%           False\n",
       "STL%           False\n",
       "BLK%           False\n",
       "TOV%           False\n",
       "USG%           False\n",
       "OWS            False\n",
       "DWS            False\n",
       "WS             False\n",
       "WS/48          False\n",
       "OBPM           False\n",
       "DBPM           False\n",
       "BPM            False\n",
       "VORP           False\n",
       "FG             False\n",
       "FGA            False\n",
       "FG%            False\n",
       "3P             False\n",
       "3PA            False\n",
       "3P%            False\n",
       "2P             False\n",
       "2PA            False\n",
       "2P%            False\n",
       "eFG%           False\n",
       "FT             False\n",
       "FTA            False\n",
       "FT%            False\n",
       "Salary         False\n",
       "ORB/G          False\n",
       "DRB/G          False\n",
       "TRB/G          False\n",
       "AST/G          False\n",
       "STL/G          False\n",
       "BLK/G          False\n",
       "TOV/G          False\n",
       "PF/G           False\n",
       "PTS/G          False\n",
       "dtype: bool"
      ]
     },
     "execution_count": 10,
     "metadata": {},
     "output_type": "execute_result"
    }
   ],
   "source": [
    "#Check if there are any more null values\n",
    "copysalary=salary.copy()\n",
    "null_values_col = copysalary.isnull().sum()\n",
    "null_values_col = null_values_col[null_values_col != 0].sort_values(ascending = False).reset_index()\n",
    "null_values_col.columns = [\"variable\", \"number of missing\"]\n",
    "null_values_col.head()\n",
    "copysalary.isnull().any()"
   ]
  },
  {
   "cell_type": "code",
   "execution_count": 11,
   "metadata": {},
   "outputs": [],
   "source": [
    "#Save the dataset as a .csv file\n",
    "salary.to_csv(r'C:\\Users\\abrah\\Documents\\Capstone project\\finaldataset.csv')"
   ]
  },
  {
   "cell_type": "code",
   "execution_count": null,
   "metadata": {},
   "outputs": [],
   "source": []
  }
 ],
 "metadata": {
  "kernelspec": {
   "display_name": "Python 3",
   "language": "python",
   "name": "python3"
  },
  "language_info": {
   "codemirror_mode": {
    "name": "ipython",
    "version": 3
   },
   "file_extension": ".py",
   "mimetype": "text/x-python",
   "name": "python",
   "nbconvert_exporter": "python",
   "pygments_lexer": "ipython3",
   "version": "3.7.1"
  }
 },
 "nbformat": 4,
 "nbformat_minor": 2
}
